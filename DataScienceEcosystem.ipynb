{
 "cells": [
  {
   "cell_type": "markdown",
   "id": "f7d590fc-bc7b-452e-9e32-8d82f524b80d",
   "metadata": {},
   "source": [
    "# Data Science Tools and Ecosystem"
   ]
  },
  {
   "cell_type": "markdown",
   "id": "e8b8f7c8-f685-442c-bea2-5298ba8b07bc",
   "metadata": {},
   "source": [
    "In this notebook, Data Science Tools and Ecosystem are summarized\n"
   ]
  },
  {
   "cell_type": "markdown",
   "id": "ab493df2-ddc3-48fc-ba4f-27730fe1ebe1",
   "metadata": {},
   "source": [
    " Some of the key takeaways from this course-\n",
    " **objectives**\n",
    " * List popular languages for Data Science\n",
    " * List popular libraries for Data Science \n",
    " * List popular tools for Data Science \n",
    " * Multiplication of Integers in Python\n",
    " * Conversion of Hours into minutes Python\n"
   ]
  },
  {
   "cell_type": "markdown",
   "id": "82e0db23-6a1e-4f1f-8544-0bdfbaf9df83",
   "metadata": {},
   "source": [
    "Some of the popular languages that Data Scientists use are:\n",
    "1-Python\n",
    "2-R\n",
    "3-SQL"
   ]
  },
  {
   "cell_type": "markdown",
   "id": "e54b6109-0a9f-47e5-a3ce-7036499f3333",
   "metadata": {
    "tags": []
   },
   "source": [
    "Some of the commonly used libraries used by Data Scientists include:\n",
    "    1-Pandas\n",
    "    2-NumPy\n",
    "    3-SciKit Learn\n"
   ]
  },
  {
   "cell_type": "markdown",
   "id": "88166cb6-70aa-464b-b253-43404d1be96a",
   "metadata": {
    "tags": []
   },
   "source": [
    "| Data Science Tools |\n",
    "|--------------------|\n",
    "| Jupyter Notebooks |\n",
    "|RStudio            |\n",
    "|Visual Studio Code |"
   ]
  },
  {
   "cell_type": "markdown",
   "id": "d8d40bb5-fc9c-4ee8-bf95-b8c03f355fe4",
   "metadata": {},
   "source": [
    "### Below are a few examples of evaluating arithmetic expressions in Python"
   ]
  },
  {
   "cell_type": "code",
   "execution_count": 3,
   "id": "fc3e7311-9adf-467f-8488-9d480d23117b",
   "metadata": {
    "tags": []
   },
   "outputs": [
    {
     "data": {
      "text/plain": [
       "17"
      ]
     },
     "execution_count": 3,
     "metadata": {},
     "output_type": "execute_result"
    }
   ],
   "source": [
    "# This is a simple arithmetic expression to multiply then add integers\n",
    "(3*4)+5"
   ]
  },
  {
   "cell_type": "code",
   "execution_count": 8,
   "id": "cda0af87-6720-45ba-b1f0-4629bfcf9d86",
   "metadata": {
    "tags": []
   },
   "outputs": [
    {
     "name": "stdout",
     "output_type": "stream",
     "text": [
      "3.3333333333333335\n"
     ]
    }
   ],
   "source": [
    "# This will convert 200 minutes to hours by diving by 60\n",
    "minutes = 200\n",
    "hours = minutes/60\n",
    "print(hours)"
   ]
  },
  {
   "cell_type": "markdown",
   "id": "e637c1dc-5e4a-46b8-98f0-9db32c3e220c",
   "metadata": {},
   "source": [
    "## Author\n",
    "Ayush Pratap Singh Chandel"
   ]
  },
  {
   "cell_type": "code",
   "execution_count": null,
   "id": "ef6bf1a0-6298-47d8-8f52-a240ba245cff",
   "metadata": {},
   "outputs": [],
   "source": []
  }
 ],
 "metadata": {
  "kernelspec": {
   "display_name": "Python 3 (ipykernel)",
   "language": "python",
   "name": "python3"
  },
  "language_info": {
   "codemirror_mode": {
    "name": "ipython",
    "version": 3
   },
   "file_extension": ".py",
   "mimetype": "text/x-python",
   "name": "python",
   "nbconvert_exporter": "python",
   "pygments_lexer": "ipython3",
   "version": "3.11.5"
  }
 },
 "nbformat": 4,
 "nbformat_minor": 5
}
